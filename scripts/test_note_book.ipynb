{
 "cells": [
  {
   "cell_type": "markdown",
   "metadata": {},
   "source": [
    "Define global variables\n",
    "==="
   ]
  },
  {
   "cell_type": "code",
   "execution_count": 1,
   "metadata": {},
   "outputs": [],
   "source": [
    "from utils import *\n",
    "import transformations.transformations as TF\n",
    "from scipy.spatial.transform import Rotation as R\n",
    "\n",
    "# Geometry parameters\n",
    "R_earth = 6378; # radius of earth in kilometers\n",
    "R_moon = 1737; # radius of moon in kilometers\n",
    "distance_earth_moon = 384400; # in kilometers\n",
    "rot_speed_earth = 2*pi/24; # rad/h\n",
    "rot_speed_moon = 2 * pi / (27.32 * 24); # rad/h\n",
    "phi_synodic_earth = radians(28.58); # deg \n",
    "phi_synodic_moon = radians(6.68); # deg\n",
    "G = 8.6467e-13; # Gravity constant in km^3*kg^-1*h^-2\n",
    "\n",
    "# # Transformation of earth, moon w.r.t synodic\n",
    "T_synodic_earth_0 = R.from_euler('y', phi_synodic_earth, degrees=False).as_matrix()\n",
    "ang_vel_earth = np.dot(T_synodic_earth_0, np.array([0, 0, 1]))\n",
    "T_synodic_moon_0 = R.from_euler('y', phi_synodic_moon, degrees=False).as_matrix()\n",
    "ang_vel_moon = np.dot(T_synodic_moon_0, np.array([0, 0, 1]))\n",
    "\n",
    "# Physical parameters\n",
    "mass_earth = 5.97219e24  # kg\n",
    "mass_moon = 7.34767e22  # kg\n",
    "mass_sc = 49735  # kg (initial mass of spacecraft)\n",
    "mass_sc_final = 4000  # kg (final mass of spacecraft after fuel consumption)\n",
    "\n",
    "# Thrust parameters\n",
    "Ve = 3.6  # Exhaust velocity in km/s\n",
    "m_dot = 4000  # Mass flow rate in kg/s\n",
    "thrust_unit_vec = np.array([0, 0, 0])  # Thrust direction vector\n",
    "\n",
    "# State variables\n",
    "phi_earth_space = np.deg2rad(60)\n",
    "theta_earth_space = np.deg2rad(100)\n",
    "time_stamp = [0]\n",
    "X_sc, V_sc, thrust_unit_vec = set_initial_position(phi_earth_space, theta_earth_space, R_earth, T_synodic_earth_0)\n",
    "mass_sc = [49735] # Mass of space craft \n",
    "theta_earth = [0]; # angle of earth\n",
    "theta_moon = [0]; # angle of moon\n",
    "\n",
    "\n",
    "# Simulation parameters\n",
    "time_escape_eath = 0.0 \n",
    "time_to_zero_gra = 0.0\n",
    "time_land_moon = 0.0\n",
    "delta_T = 1; # simulation time step (hour)\n",
    "\n",
    "# Class Space "
   ]
  },
  {
   "cell_type": "code",
   "execution_count": 4,
   "metadata": {},
   "outputs": [
    {
     "ename": "NameError",
     "evalue": "name 'x_sc' is not defined",
     "output_type": "error",
     "traceback": [
      "\u001b[1;31m---------------------------------------------------------------------------\u001b[0m",
      "\u001b[1;31mNameError\u001b[0m                                 Traceback (most recent call last)",
      "Cell \u001b[1;32mIn[4], line 3\u001b[0m\n\u001b[0;32m      1\u001b[0m x_sc \u001b[38;5;241m=\u001b[39m \u001b[38;5;241m100\u001b[39m\n\u001b[0;32m      2\u001b[0m space_craft \u001b[38;5;241m=\u001b[39m SpaceCraft()\n\u001b[1;32m----> 3\u001b[0m \u001b[43mspace_craft\u001b[49m\u001b[38;5;241;43m.\u001b[39;49m\u001b[43mstep_update\u001b[49m\u001b[43m(\u001b[49m\u001b[43m)\u001b[49m\n",
      "File \u001b[1;32me:\\StonyBrook\\Midterm_dynamics\\scripts\\utils.py:45\u001b[0m, in \u001b[0;36mSpaceCraft.step_update\u001b[1;34m(self, force, thrust_unit, time_step)\u001b[0m\n\u001b[0;32m     43\u001b[0m \u001b[38;5;66;03m# mass update\u001b[39;00m\n\u001b[0;32m     44\u001b[0m \u001b[38;5;28mself\u001b[39m\u001b[38;5;241m.\u001b[39mm\u001b[38;5;241m.\u001b[39mappend(\u001b[38;5;28mself\u001b[39m\u001b[38;5;241m.\u001b[39mm[\u001b[38;5;241m-\u001b[39m\u001b[38;5;241m1\u001b[39m] \u001b[38;5;241m+\u001b[39m \u001b[38;5;28mself\u001b[39m\u001b[38;5;241m.\u001b[39mm_dot\u001b[38;5;241m*\u001b[39mtime_step)\n\u001b[1;32m---> 45\u001b[0m \u001b[38;5;28mprint\u001b[39m(\u001b[43mx_sc\u001b[49m)\n",
      "\u001b[1;31mNameError\u001b[0m: name 'x_sc' is not defined"
     ]
    }
   ],
   "source": [
    "x_sc = 100\n",
    "space_craft = SpaceCraft()\n",
    "space_craft.step_update()\n"
   ]
  }
 ],
 "metadata": {
  "kernelspec": {
   "display_name": "Python 3",
   "language": "python",
   "name": "python3"
  },
  "language_info": {
   "codemirror_mode": {
    "name": "ipython",
    "version": 3
   },
   "file_extension": ".py",
   "mimetype": "text/x-python",
   "name": "python",
   "nbconvert_exporter": "python",
   "pygments_lexer": "ipython3",
   "version": "3.12.6"
  }
 },
 "nbformat": 4,
 "nbformat_minor": 2
}
